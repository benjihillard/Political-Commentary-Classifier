{
 "cells": [
  {
   "cell_type": "markdown",
   "metadata": {},
   "source": [
    "## The Dependencies"
   ]
  },
  {
   "cell_type": "code",
   "execution_count": 4,
   "metadata": {},
   "outputs": [
    {
     "name": "stdout",
     "output_type": "stream",
     "text": [
      "Requirement already satisfied: transformers in /Users/benji/opt/anaconda3/lib/python3.8/site-packages (3.5.1)\n",
      "Requirement already satisfied: regex!=2019.12.17 in /Users/benji/opt/anaconda3/lib/python3.8/site-packages (from transformers) (2020.6.8)\n",
      "Requirement already satisfied: sentencepiece==0.1.91 in /Users/benji/opt/anaconda3/lib/python3.8/site-packages (from transformers) (0.1.91)\n",
      "Requirement already satisfied: sacremoses in /Users/benji/opt/anaconda3/lib/python3.8/site-packages (from transformers) (0.0.43)\n",
      "Requirement already satisfied: protobuf in /Users/benji/opt/anaconda3/lib/python3.8/site-packages (from transformers) (3.14.0)\n",
      "Requirement already satisfied: numpy in /Users/benji/opt/anaconda3/lib/python3.8/site-packages (from transformers) (1.18.5)\n",
      "Requirement already satisfied: tqdm>=4.27 in /Users/benji/opt/anaconda3/lib/python3.8/site-packages (from transformers) (4.47.0)\n",
      "Requirement already satisfied: filelock in /Users/benji/opt/anaconda3/lib/python3.8/site-packages (from transformers) (3.0.12)\n",
      "Requirement already satisfied: tokenizers==0.9.3 in /Users/benji/opt/anaconda3/lib/python3.8/site-packages (from transformers) (0.9.3)\n",
      "Requirement already satisfied: packaging in /Users/benji/opt/anaconda3/lib/python3.8/site-packages (from transformers) (20.4)\n",
      "Requirement already satisfied: requests in /Users/benji/opt/anaconda3/lib/python3.8/site-packages (from transformers) (2.24.0)\n",
      "Requirement already satisfied: joblib in /Users/benji/opt/anaconda3/lib/python3.8/site-packages (from sacremoses->transformers) (0.16.0)\n",
      "Requirement already satisfied: six in /Users/benji/opt/anaconda3/lib/python3.8/site-packages (from sacremoses->transformers) (1.15.0)\n",
      "Requirement already satisfied: click in /Users/benji/opt/anaconda3/lib/python3.8/site-packages (from sacremoses->transformers) (7.1.2)\n",
      "Requirement already satisfied: pyparsing>=2.0.2 in /Users/benji/opt/anaconda3/lib/python3.8/site-packages (from packaging->transformers) (2.4.7)\n",
      "Requirement already satisfied: chardet<4,>=3.0.2 in /Users/benji/opt/anaconda3/lib/python3.8/site-packages (from requests->transformers) (3.0.4)\n",
      "Requirement already satisfied: certifi>=2017.4.17 in /Users/benji/opt/anaconda3/lib/python3.8/site-packages (from requests->transformers) (2020.6.20)\n",
      "Requirement already satisfied: urllib3!=1.25.0,!=1.25.1,<1.26,>=1.21.1 in /Users/benji/opt/anaconda3/lib/python3.8/site-packages (from requests->transformers) (1.25.9)\n",
      "Requirement already satisfied: idna<3,>=2.5 in /Users/benji/opt/anaconda3/lib/python3.8/site-packages (from requests->transformers) (2.10)\n",
      "Requirement already satisfied: torch in /Users/benji/opt/anaconda3/lib/python3.8/site-packages (1.7.0)\n",
      "Requirement already satisfied: torchvision in /Users/benji/opt/anaconda3/lib/python3.8/site-packages (0.8.1)\n",
      "Requirement already satisfied: dataclasses in /Users/benji/opt/anaconda3/lib/python3.8/site-packages (from torch) (0.6)\n",
      "Requirement already satisfied: typing-extensions in /Users/benji/opt/anaconda3/lib/python3.8/site-packages (from torch) (3.7.4.2)\n",
      "Requirement already satisfied: numpy in /Users/benji/opt/anaconda3/lib/python3.8/site-packages (from torch) (1.18.5)\n",
      "Requirement already satisfied: future in /Users/benji/opt/anaconda3/lib/python3.8/site-packages (from torch) (0.18.2)\n",
      "Requirement already satisfied: pillow>=4.1.1 in /Users/benji/opt/anaconda3/lib/python3.8/site-packages (from torchvision) (7.2.0)\n"
     ]
    }
   ],
   "source": [
    "!pip install transformers\n",
    "!pip install torch torchvision\n",
    "import pandas as pd\n",
    "import numpy as np\n",
    "import nltk\n",
    "import re\n",
    "from collections import defaultdict\n",
    "from sklearn.feature_extraction import DictVectorizer\n",
    "from sklearn.model_selection import train_test_split\n",
    "from sklearn.linear_model import LogisticRegression\n",
    "from sklearn.metrics import f1_score\n",
    "from sklearn.metrics import precision_score\n",
    "from sklearn.metrics import recall_score\n",
    "import torch\n",
    "from transformers import BertTokenizer, BertModel\n",
    "import logging\n",
    "#logging.basicConfig(level=logging.INFO)\n",
    "import matplotlib.pyplot as plt\n",
    "tokenizer = BertTokenizer.from_pretrained('bert-base-uncased')"
   ]
  },
  {
   "cell_type": "markdown",
   "metadata": {},
   "source": [
    "## The Data "
   ]
  },
  {
   "cell_type": "code",
   "execution_count": 5,
   "metadata": {},
   "outputs": [],
   "source": [
    "conservative = pd.read_csv(f\"news_conservative.csv\") #conservative comments from reddit\n",
    "news = pd.read_csv(f\"news_news.csv\") #control news comments from reddit\n",
    "reddit = pd.concat([news, conservative]) # both\n",
    "test = pd.read_csv(f\"test.csv\") # test data we collected\n",
    "test_B = pd.read_pickle(\"./test.pkl\") # test data trained on bert\n",
    "reddit_B = pd.read_pickle(\"./reddit.pkl\") # reddit data trained on bert\n"
   ]
  },
  {
   "cell_type": "markdown",
   "metadata": {},
   "source": [
    "## Clean Data"
   ]
  },
  {
   "cell_type": "code",
   "execution_count": 6,
   "metadata": {},
   "outputs": [],
   "source": [
    "def binary_codding(label):\n",
    "  if (label == 'news'):\n",
    "    return 1\n",
    "  elif (label == 'conservative'):\n",
    "    return 0\n",
    "\n",
    "# cut un-useful data\n",
    "reddit = reddit[['0','2']]\n",
    "conservative = conservative[['0','2']]\n",
    "news = news[['0','2']]\n",
    "\n",
    "# convert comment type to binary - news = 1 - conservative = 0 \n",
    "reddit['2'] = reddit['2'].map(binary_codding)\n",
    "conservative['2'] = conservative['2'].map(binary_codding)\n",
    "news['2'] = news['2'].map(binary_codding)\n",
    "\n",
    "# clean out non strings and strigs over 500 char\n",
    "reddit = reddit[reddit['0'].map(type) == str]\n",
    "conservative = conservative[conservative['0'].map(type) == str]\n",
    "news = news[news['0'].map(type) == str]\n",
    "reddit = reddit[reddit['0'].map(len)  < 500]\n",
    "conservative = conservative[conservative['0'].map(len)  < 500]\n",
    "news = news[news['0'].map(len)  < 500]\n",
    "test = test[test['comment'].map(type) == str]\n",
    "test = test[test['comment'].map(len)  < 500]\n"
   ]
  },
  {
   "cell_type": "markdown",
   "metadata": {},
   "source": [
    "## BOW Implementation\n",
    "We started with a basic bag of words implimentation of word to vector as a feature in logistic regression"
   ]
  },
  {
   "cell_type": "code",
   "execution_count": 7,
   "metadata": {},
   "outputs": [],
   "source": [
    "vocab = dict()\n",
    "\n",
    "def vocabmaker( dataset ):\n",
    "    \n",
    "    for doc in dataset:\n",
    "        if(type(doc) == str):\n",
    "            tokens = nltk.word_tokenize(doc)\n",
    "            for word in tokens:\n",
    "                vocab.update({word : 1})\n",
    "        \n",
    "\n",
    "def BOW( dataset ):\n",
    "    \n",
    "    column = []\n",
    "    for doc in dataset:\n",
    "        if(type(doc) == str):\n",
    "            bow = defaultdict(float)\n",
    "            tokens = nltk.word_tokenize(doc)\n",
    "            for word in tokens:\n",
    "                if word in vocab:\n",
    "                    bow[word] += 1\n",
    "        column.append(bow)\n",
    "        \n",
    "    column.append(vocab)\n",
    "    \n",
    "    v = DictVectorizer(sparse=False)\n",
    "    X = v.fit_transform(column)\n",
    "    return X[0:(X.shape[0]-1), 0: X.shape[1]]\n",
    "     "
   ]
  },
  {
   "cell_type": "code",
   "execution_count": 8,
   "metadata": {},
   "outputs": [],
   "source": [
    "X_train, X_test, y_train, y_test = train_test_split(\n",
    "    reddit['0'], reddit['2'], test_size=0.2, random_state=2020\n",
    ")\n",
    "\n"
   ]
  },
  {
   "cell_type": "code",
   "execution_count": 9,
   "metadata": {},
   "outputs": [],
   "source": [
    "vocab = defaultdict(float)\n",
    "vocabmaker(X_train)\n",
    "bowTrain = BOW(X_train)\n",
    "bowTest = BOW(X_test)"
   ]
  },
  {
   "cell_type": "code",
   "execution_count": 11,
   "metadata": {},
   "outputs": [
    {
     "data": {
      "text/plain": [
       "LogisticRegression(max_iter=100000, random_state=0)"
      ]
     },
     "execution_count": 11,
     "metadata": {},
     "output_type": "execute_result"
    }
   ],
   "source": [
    "clf = LogisticRegression(penalty='l2',random_state=0, max_iter = 100000)\n",
    "clf.fit(bowTrain,y_train)"
   ]
  },
  {
   "cell_type": "code",
   "execution_count": 12,
   "metadata": {},
   "outputs": [
    {
     "name": "stdout",
     "output_type": "stream",
     "text": [
      "Accuracy: 1.00\n"
     ]
    }
   ],
   "source": [
    "print(\"Accuracy: %0.2f\" % clf.score(bowTest, y_test))"
   ]
  },
  {
   "cell_type": "code",
   "execution_count": 13,
   "metadata": {},
   "outputs": [],
   "source": [
    "vocab = defaultdict(float)\n",
    "vocabmaker(reddit['0'])\n",
    "bowTrain = BOW(reddit['0'])\n",
    "bowTest = BOW(test['comment'])"
   ]
  },
  {
   "cell_type": "code",
   "execution_count": 14,
   "metadata": {},
   "outputs": [
    {
     "data": {
      "text/plain": [
       "LogisticRegression(max_iter=100000, random_state=0)"
      ]
     },
     "execution_count": 14,
     "metadata": {},
     "output_type": "execute_result"
    }
   ],
   "source": [
    "clf2 = LogisticRegression(penalty='l2',random_state=0, max_iter = 100000)\n",
    "clf2.fit(bowTrain,reddit['2'])"
   ]
  },
  {
   "cell_type": "code",
   "execution_count": 15,
   "metadata": {},
   "outputs": [
    {
     "name": "stdout",
     "output_type": "stream",
     "text": [
      "Accuracy: 0.53\n"
     ]
    }
   ],
   "source": [
    "print(\"Accuracy: %0.2f\" % clf.score(bowTest, test['label']))"
   ]
  },
  {
   "cell_type": "code",
   "execution_count": 16,
   "metadata": {},
   "outputs": [],
   "source": [
    "X_train_B = []\n",
    "y_train_B = []\n",
    "X_test_B = []\n",
    "y_test_B = []\n",
    "\n",
    "for x in reddit_B[\"sentence_embedding\"]:  \n",
    "    if type(x) != torch.Tensor:\n",
    "        continue\n",
    "    X_train_B.append(x.numpy())\n",
    "    \n",
    "\n",
    "\n",
    "for x in reddit_B['2']:\n",
    "    y_train_B.append(x)\n",
    "    \n",
    "\n",
    "for x in test_B[\"sentence_embedding\"]:\n",
    "    if type(x) != torch.Tensor:\n",
    "        continue\n",
    "    X_test_B.append(x.numpy())\n",
    "    \n",
    "\n",
    "for x in test_B['label']:\n",
    "    y_test_B.append(x)\n",
    "    \n"
   ]
  },
  {
   "cell_type": "code",
   "execution_count": 17,
   "metadata": {},
   "outputs": [
    {
     "data": {
      "text/plain": [
       "LogisticRegression(max_iter=100000, random_state=0)"
      ]
     },
     "execution_count": 17,
     "metadata": {},
     "output_type": "execute_result"
    }
   ],
   "source": [
    "clf3 = LogisticRegression(penalty='l2',random_state=0, max_iter = 100000)\n",
    "clf3.fit(X_train_B, y_train_B)"
   ]
  },
  {
   "cell_type": "code",
   "execution_count": 18,
   "metadata": {},
   "outputs": [
    {
     "name": "stdout",
     "output_type": "stream",
     "text": [
      "Accuracy: 0.62\n"
     ]
    }
   ],
   "source": [
    "print(\"Accuracy: %0.2f\" % clf3.score(X_test_B, y_test_B))"
   ]
  },
  {
   "cell_type": "code",
   "execution_count": 19,
   "metadata": {},
   "outputs": [
    {
     "name": "stdout",
     "output_type": "stream",
     "text": [
      "                                               comment  label  \\\n",
      "0    How many in the Trump administration has alrea...      1   \n",
      "1    When you join the Trump team of traitors,you w...      1   \n",
      "2    So because they didn't charge him with anythin...      1   \n",
      "3    There were dozens of Trump administration asso...      1   \n",
      "4    If Page wins,then I'm suing my city.I was foll...      1   \n",
      "..                                                 ...    ...   \n",
      "595  How ironic, the very system (capitalism)they d...      0   \n",
      "596  They are not public servants, they're somethin...      0   \n",
      "597  Squad members are giving 25% of their earnings...      0   \n",
      "598  Absolutely great! Now let’s unite against the ...      0   \n",
      "599  Way to go Dr Miller-Meeks and congratulations....      0   \n",
      "\n",
      "                                    sentence_embedding  \n",
      "0    [tensor(0.3914), tensor(-1.1686), tensor(-1.57...  \n",
      "1    [tensor(2.2838), tensor(-0.9486), tensor(0.670...  \n",
      "2    [tensor(2.6092), tensor(-0.6065), tensor(-0.04...  \n",
      "3    [tensor(1.6239), tensor(-0.6796), tensor(-0.45...  \n",
      "4    [tensor(1.1743), tensor(-1.0908), tensor(2.012...  \n",
      "..                                                 ...  \n",
      "595  [tensor(2.3502), tensor(3.0514), tensor(0.2871...  \n",
      "596  [tensor(1.9781), tensor(1.1144), tensor(0.1600...  \n",
      "597  [tensor(0.4975), tensor(-2.5917), tensor(0.822...  \n",
      "598  [tensor(1.4887), tensor(-1.9551), tensor(0.340...  \n",
      "599  [tensor(0.5504), tensor(-1.3850), tensor(2.207...  \n",
      "\n",
      "[564 rows x 3 columns]\n"
     ]
    }
   ],
   "source": [
    "print(test_B)"
   ]
  },
  {
   "cell_type": "code",
   "execution_count": 20,
   "metadata": {},
   "outputs": [],
   "source": [
    "X_train, X_test, y_train, y_test = train_test_split(\n",
    "    test_B['sentence_embedding'], test_B['label'], test_size=0.2, random_state=2020\n",
    ")\n",
    "\n",
    "X_train_B = []\n",
    "y_train_B = []\n",
    "X_test_B = []\n",
    "y_test_B = []\n",
    "\n",
    "for x in X_train:  \n",
    "    if type(x) != torch.Tensor:\n",
    "        continue\n",
    "    X_train_B.append(x.numpy())\n",
    "    \n",
    "\n",
    "for x in y_train:\n",
    "    y_train_B.append(x)\n",
    "    \n",
    "\n",
    "for x in X_test:\n",
    "    if type(x) != torch.Tensor:\n",
    "        continue\n",
    "    X_test_B.append(x.numpy())\n",
    "    \n",
    "\n",
    "for x in y_test:\n",
    "    y_test_B.append(x)\n",
    "    \n"
   ]
  },
  {
   "cell_type": "code",
   "execution_count": 21,
   "metadata": {},
   "outputs": [
    {
     "name": "stdout",
     "output_type": "stream",
     "text": [
      "Accuracy: 0.75\n"
     ]
    }
   ],
   "source": [
    "clf4 = LogisticRegression(penalty='l2',random_state=0, max_iter = 100000)\n",
    "clf4.fit(X_train_B, y_train_B)\n",
    "print(\"Accuracy: %0.2f\" % clf4.score(X_test_B, y_test_B))"
   ]
  }
 ],
 "metadata": {
  "kernelspec": {
   "display_name": "Python 3",
   "language": "python",
   "name": "python3"
  },
  "language_info": {
   "codemirror_mode": {
    "name": "ipython",
    "version": 3
   },
   "file_extension": ".py",
   "mimetype": "text/x-python",
   "name": "python",
   "nbconvert_exporter": "python",
   "pygments_lexer": "ipython3",
   "version": "3.8.3"
  }
 },
 "nbformat": 4,
 "nbformat_minor": 4
}
